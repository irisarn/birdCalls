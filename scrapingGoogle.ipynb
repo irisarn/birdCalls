{
 "cells": [
  {
   "cell_type": "code",
   "execution_count": 1,
   "metadata": {},
   "outputs": [],
   "source": [
    "# Dependencies\n",
    "import pandas as pd\n",
    "import os\n",
    "from bs4 import BeautifulSoup as bs\n",
    "import time\n",
    "import io\n",
    "import requests\n",
    "import hashlib\n",
    "import sqlite3 as lite\n",
    "import sys\n",
    "from PIL import Image\n",
    "from numpy import genfromtxt\n",
    "from datetime import datetime\n",
    "from sqlalchemy.ext.declarative import declarative_base\n",
    "from sqlalchemy.ext.automap import automap_base\n",
    "from sqlalchemy import create_engine\n",
    "from sqlalchemy.orm import sessionmaker, Session\n",
    "\n",
    "# Allow us to declare column types\n",
    "from sqlalchemy import Column, Integer, String, Float, Date\n",
    "import urllib"
   ]
  },
  {
   "cell_type": "code",
   "execution_count": 14,
   "metadata": {},
   "outputs": [
    {
     "data": {
      "text/plain": [
       "'seagull+call'"
      ]
     },
     "execution_count": 14,
     "metadata": {},
     "output_type": "execute_result"
    }
   ],
   "source": [
    "inputSearch=\"seagull call\"\n",
    "query = inputSearch\n",
    "query = query.replace(' ', '+')\n",
    "URL = f\"https://google.com/search?q={query}\"\n",
    "query"
   ]
  },
  {
   "cell_type": "code",
   "execution_count": 3,
   "metadata": {},
   "outputs": [],
   "source": [
    "# desktop user-agent\n",
    "# USER_AGENT = \"Mozilla/5.0 (Macintosh; Intel Mac OS X 10.14; rv:65.0) Gecko/20100101 Firefox/65.0\"\n",
    "USER_AGENT = \"Mozilla/5.0 (Windows NT 10.0; Win64; x64) AppleWebKit/537.36 (KHTML, like Gecko) Chrome/83.0.4103.61 Safari/537.36\"\n",
    "# mobile user-agent\n",
    "MOBILE_USER_AGENT = \"Mozilla/5.0 (Linux; Android 7.0; SM-G930V Build/NRD90M) AppleWebKit/537.36 (KHTML, like Gecko) Chrome/59.0.3071.125 Mobile Safari/537.36\""
   ]
  },
  {
   "cell_type": "code",
   "execution_count": 4,
   "metadata": {},
   "outputs": [],
   "source": [
    "headers = {\"user-agent\" : USER_AGENT}\n",
    "resp = requests.get(URL, headers=headers)"
   ]
  },
  {
   "cell_type": "code",
   "execution_count": 5,
   "metadata": {},
   "outputs": [],
   "source": [
    "if resp.status_code == 200:\n",
    "    soup = bs(resp.content, \"html.parser\")"
   ]
  },
  {
   "cell_type": "code",
   "execution_count": 6,
   "metadata": {},
   "outputs": [
    {
     "name": "stdout",
     "output_type": "stream",
     "text": [
      "[{'title': 'Herring Gull Sounds, All About Birds, Cornell Lab of Ornithology', 'link': 'https://www.allaboutbirds.org/guide/Herring_Gull/sounds'}, {'title': 'What is the meaning of all the sounds seagulls make? - Quora', 'link': 'https://www.quora.com/What-is-the-meaning-of-all-the-sounds-seagulls-make'}, {'title': 'Seagull Calling Contest | BirdNote', 'link': 'https://www.birdnote.org/show/seagull-calling-contest'}, {'title': 'What Gulls Say – Earbirding', 'link': 'http://earbirding.com/blog/archives/3994'}, {'title': 'Long Calls of Gulls – Earbirding', 'link': 'http://earbirding.com/blog/archives/4538'}, {'title': 'Seagull or Gull: Who Really Cares? | Audubon', 'link': 'https://www.audubon.org/news/seagull-or-gull-who-really-cares'}, {'title': 'Seagull Call Sounds | Effects | Sound Bites | Sound Clips from ...', 'link': 'http://soundbible.com/192-Seagull-Call.html'}, {'title': 'Audubon Bird Call : Whistles Musical ... - Amazon.com', 'link': 'https://www.amazon.com/Audubon-RE2473-Bird-Call/dp/B0002E1MWO'}]\n"
     ]
    }
   ],
   "source": [
    "results = []\n",
    "for g in soup.find_all('div', class_='r'):\n",
    "    anchors = g.find_all('a')\n",
    "    if anchors:\n",
    "        link = anchors[0]['href']\n",
    "        title = g.find('h3').text\n",
    "        item = {\n",
    "            \"title\": title,\n",
    "            \"link\": link\n",
    "        }\n",
    "        results.append(item)\n",
    "print(results)"
   ]
  },
  {
   "cell_type": "markdown",
   "metadata": {},
   "source": []
  },
  {
   "cell_type": "code",
   "execution_count": 7,
   "metadata": {},
   "outputs": [
    {
     "data": {
      "text/html": [
       "<div>\n",
       "<style scoped>\n",
       "    .dataframe tbody tr th:only-of-type {\n",
       "        vertical-align: middle;\n",
       "    }\n",
       "\n",
       "    .dataframe tbody tr th {\n",
       "        vertical-align: top;\n",
       "    }\n",
       "\n",
       "    .dataframe thead th {\n",
       "        text-align: right;\n",
       "    }\n",
       "</style>\n",
       "<table border=\"1\" class=\"dataframe\">\n",
       "  <thead>\n",
       "    <tr style=\"text-align: right;\">\n",
       "      <th></th>\n",
       "      <th>title</th>\n",
       "      <th>link</th>\n",
       "    </tr>\n",
       "  </thead>\n",
       "  <tbody>\n",
       "    <tr>\n",
       "      <th>0</th>\n",
       "      <td>Herring Gull Sounds, All About Birds, Cornell ...</td>\n",
       "      <td>https://www.allaboutbirds.org/guide/Herring_Gu...</td>\n",
       "    </tr>\n",
       "    <tr>\n",
       "      <th>1</th>\n",
       "      <td>What is the meaning of all the sounds seagulls...</td>\n",
       "      <td>https://www.quora.com/What-is-the-meaning-of-a...</td>\n",
       "    </tr>\n",
       "    <tr>\n",
       "      <th>2</th>\n",
       "      <td>Seagull Calling Contest | BirdNote</td>\n",
       "      <td>https://www.birdnote.org/show/seagull-calling-...</td>\n",
       "    </tr>\n",
       "    <tr>\n",
       "      <th>3</th>\n",
       "      <td>What Gulls Say – Earbirding</td>\n",
       "      <td>http://earbirding.com/blog/archives/3994</td>\n",
       "    </tr>\n",
       "    <tr>\n",
       "      <th>4</th>\n",
       "      <td>Long Calls of Gulls – Earbirding</td>\n",
       "      <td>http://earbirding.com/blog/archives/4538</td>\n",
       "    </tr>\n",
       "    <tr>\n",
       "      <th>5</th>\n",
       "      <td>Seagull or Gull: Who Really Cares? | Audubon</td>\n",
       "      <td>https://www.audubon.org/news/seagull-or-gull-w...</td>\n",
       "    </tr>\n",
       "    <tr>\n",
       "      <th>6</th>\n",
       "      <td>Seagull Call Sounds | Effects | Sound Bites | ...</td>\n",
       "      <td>http://soundbible.com/192-Seagull-Call.html</td>\n",
       "    </tr>\n",
       "    <tr>\n",
       "      <th>7</th>\n",
       "      <td>Audubon Bird Call : Whistles Musical ... - Ama...</td>\n",
       "      <td>https://www.amazon.com/Audubon-RE2473-Bird-Cal...</td>\n",
       "    </tr>\n",
       "  </tbody>\n",
       "</table>\n",
       "</div>"
      ],
      "text/plain": [
       "                                               title  \\\n",
       "0  Herring Gull Sounds, All About Birds, Cornell ...   \n",
       "1  What is the meaning of all the sounds seagulls...   \n",
       "2                 Seagull Calling Contest | BirdNote   \n",
       "3                        What Gulls Say – Earbirding   \n",
       "4                   Long Calls of Gulls – Earbirding   \n",
       "5       Seagull or Gull: Who Really Cares? | Audubon   \n",
       "6  Seagull Call Sounds | Effects | Sound Bites | ...   \n",
       "7  Audubon Bird Call : Whistles Musical ... - Ama...   \n",
       "\n",
       "                                                link  \n",
       "0  https://www.allaboutbirds.org/guide/Herring_Gu...  \n",
       "1  https://www.quora.com/What-is-the-meaning-of-a...  \n",
       "2  https://www.birdnote.org/show/seagull-calling-...  \n",
       "3           http://earbirding.com/blog/archives/3994  \n",
       "4           http://earbirding.com/blog/archives/4538  \n",
       "5  https://www.audubon.org/news/seagull-or-gull-w...  \n",
       "6        http://soundbible.com/192-Seagull-Call.html  \n",
       "7  https://www.amazon.com/Audubon-RE2473-Bird-Cal...  "
      ]
     },
     "execution_count": 7,
     "metadata": {},
     "output_type": "execute_result"
    }
   ],
   "source": [
    "df = pd.DataFrame(results)\n",
    "df"
   ]
  },
  {
   "cell_type": "code",
   "execution_count": 8,
   "metadata": {},
   "outputs": [
    {
     "data": {
      "text/plain": [
       "'<table border=\"1\" class=\"dataframe\">\\n  <thead>\\n    <tr style=\"text-align: right;\">\\n      <th></th>\\n      <th>title</th>\\n      <th>link</th>\\n    </tr>\\n  </thead>\\n  <tbody>\\n    <tr>\\n      <th>0</th>\\n      <td>Herring Gull Sounds, All About Birds, Cornell Lab of Ornithology</td>\\n      <td>https://www.allaboutbirds.org/guide/Herring_Gull/sounds</td>\\n    </tr>\\n    <tr>\\n      <th>1</th>\\n      <td>What is the meaning of all the sounds seagulls make? - Quora</td>\\n      <td>https://www.quora.com/What-is-the-meaning-of-all-the-sounds-seagulls-make</td>\\n    </tr>\\n    <tr>\\n      <th>2</th>\\n      <td>Seagull Calling Contest | BirdNote</td>\\n      <td>https://www.birdnote.org/show/seagull-calling-contest</td>\\n    </tr>\\n    <tr>\\n      <th>3</th>\\n      <td>What Gulls Say – Earbirding</td>\\n      <td>http://earbirding.com/blog/archives/3994</td>\\n    </tr>\\n    <tr>\\n      <th>4</th>\\n      <td>Long Calls of Gulls – Earbirding</td>\\n      <td>http://earbirding.com/blog/archives/4538</td>\\n    </tr>\\n    <tr>\\n      <th>5</th>\\n      <td>Seagull or Gull: Who Really Cares? | Audubon</td>\\n      <td>https://www.audubon.org/news/seagull-or-gull-who-really-cares</td>\\n    </tr>\\n    <tr>\\n      <th>6</th>\\n      <td>Seagull Call Sounds | Effects | Sound Bites | Sound Clips from ...</td>\\n      <td>http://soundbible.com/192-Seagull-Call.html</td>\\n    </tr>\\n    <tr>\\n      <th>7</th>\\n      <td>Audubon Bird Call : Whistles Musical ... - Amazon.com</td>\\n      <td>https://www.amazon.com/Audubon-RE2473-Bird-Call/dp/B0002E1MWO</td>\\n    </tr>\\n  </tbody>\\n</table>'"
      ]
     },
     "execution_count": 8,
     "metadata": {},
     "output_type": "execute_result"
    }
   ],
   "source": [
    "html_table = df.to_html()\n",
    "html_table"
   ]
  },
  {
   "cell_type": "markdown",
   "metadata": {},
   "source": [
    "# Read sqlite database that contains Oregon birds information"
   ]
  },
  {
   "cell_type": "code",
   "execution_count": 9,
   "metadata": {},
   "outputs": [],
   "source": [
    "import sqlalchemy\n",
    "from sqlalchemy.ext.automap import automap_base \n",
    "from sqlalchemy.orm import Session\n",
    "from sqlalchemy import create_engine, inspect, func"
   ]
  },
  {
   "cell_type": "code",
   "execution_count": 10,
   "metadata": {},
   "outputs": [],
   "source": [
    "# exstract list of birds English names\n",
    "database_path = \"data/birdDB.sqlite\""
   ]
  },
  {
   "cell_type": "code",
   "execution_count": 11,
   "metadata": {},
   "outputs": [],
   "source": [
    "conn = lite.connect(database_path)"
   ]
  },
  {
   "cell_type": "code",
   "execution_count": 12,
   "metadata": {},
   "outputs": [],
   "source": [
    "cur = conn.cursor()"
   ]
  },
  {
   "cell_type": "code",
   "execution_count": 13,
   "metadata": {},
   "outputs": [
    {
     "data": {
      "text/html": [
       "<div>\n",
       "<style scoped>\n",
       "    .dataframe tbody tr th:only-of-type {\n",
       "        vertical-align: middle;\n",
       "    }\n",
       "\n",
       "    .dataframe tbody tr th {\n",
       "        vertical-align: top;\n",
       "    }\n",
       "\n",
       "    .dataframe thead th {\n",
       "        text-align: right;\n",
       "    }\n",
       "</style>\n",
       "<table border=\"1\" class=\"dataframe\">\n",
       "  <thead>\n",
       "    <tr style=\"text-align: right;\">\n",
       "      <th></th>\n",
       "      <th>index</th>\n",
       "      <th>uniqueName</th>\n",
       "      <th>imageLocation</th>\n",
       "    </tr>\n",
       "  </thead>\n",
       "  <tbody>\n",
       "    <tr>\n",
       "      <th>0</th>\n",
       "      <td>0</td>\n",
       "      <td>Acorn Woodpecker</td>\n",
       "      <td>./images\\acorn_woodpecker\\1651956c1e.jpg</td>\n",
       "    </tr>\n",
       "    <tr>\n",
       "      <th>1</th>\n",
       "      <td>1</td>\n",
       "      <td>American Bushtit</td>\n",
       "      <td>./images\\american_bushtit\\23de54f7b6.jpg</td>\n",
       "    </tr>\n",
       "    <tr>\n",
       "      <th>2</th>\n",
       "      <td>2</td>\n",
       "      <td>American Cliff Swallow</td>\n",
       "      <td>./images\\american_cliff_swallow\\4d50746d92.jpg</td>\n",
       "    </tr>\n",
       "    <tr>\n",
       "      <th>3</th>\n",
       "      <td>3</td>\n",
       "      <td>American Crow</td>\n",
       "      <td>./images\\american_crow\\4aa703f5b0.jpg</td>\n",
       "    </tr>\n",
       "    <tr>\n",
       "      <th>4</th>\n",
       "      <td>4</td>\n",
       "      <td>American Grey Flycatcher</td>\n",
       "      <td>./images\\american_grey_flycatcher\\bc34237459.jpg</td>\n",
       "    </tr>\n",
       "    <tr>\n",
       "      <th>...</th>\n",
       "      <td>...</td>\n",
       "      <td>...</td>\n",
       "      <td>...</td>\n",
       "    </tr>\n",
       "    <tr>\n",
       "      <th>112</th>\n",
       "      <td>112</td>\n",
       "      <td>Wilson's Snipe</td>\n",
       "      <td>./images\\wilson's_snipe\\e2279f5393.jpg</td>\n",
       "    </tr>\n",
       "    <tr>\n",
       "      <th>113</th>\n",
       "      <td>113</td>\n",
       "      <td>Wood Duck</td>\n",
       "      <td>./images\\wood_duck\\7173954478.jpg</td>\n",
       "    </tr>\n",
       "    <tr>\n",
       "      <th>114</th>\n",
       "      <td>114</td>\n",
       "      <td>Wrentit</td>\n",
       "      <td>./images\\wrentit\\a43f0b1268.jpg</td>\n",
       "    </tr>\n",
       "    <tr>\n",
       "      <th>115</th>\n",
       "      <td>115</td>\n",
       "      <td>Yellow Rail</td>\n",
       "      <td>./images\\yellow_rail\\d5d6b7133e.jpg</td>\n",
       "    </tr>\n",
       "    <tr>\n",
       "      <th>116</th>\n",
       "      <td>116</td>\n",
       "      <td>Yellow-bellied Sapsucker</td>\n",
       "      <td>./images\\yellow-bellied_sapsucker\\841ccd5daa.jpg</td>\n",
       "    </tr>\n",
       "  </tbody>\n",
       "</table>\n",
       "<p>117 rows × 3 columns</p>\n",
       "</div>"
      ],
      "text/plain": [
       "     index                uniqueName  \\\n",
       "0        0          Acorn Woodpecker   \n",
       "1        1          American Bushtit   \n",
       "2        2    American Cliff Swallow   \n",
       "3        3             American Crow   \n",
       "4        4  American Grey Flycatcher   \n",
       "..     ...                       ...   \n",
       "112    112            Wilson's Snipe   \n",
       "113    113                 Wood Duck   \n",
       "114    114                   Wrentit   \n",
       "115    115               Yellow Rail   \n",
       "116    116  Yellow-bellied Sapsucker   \n",
       "\n",
       "                                        imageLocation  \n",
       "0            ./images\\acorn_woodpecker\\1651956c1e.jpg  \n",
       "1            ./images\\american_bushtit\\23de54f7b6.jpg  \n",
       "2      ./images\\american_cliff_swallow\\4d50746d92.jpg  \n",
       "3               ./images\\american_crow\\4aa703f5b0.jpg  \n",
       "4    ./images\\american_grey_flycatcher\\bc34237459.jpg  \n",
       "..                                                ...  \n",
       "112            ./images\\wilson's_snipe\\e2279f5393.jpg  \n",
       "113                 ./images\\wood_duck\\7173954478.jpg  \n",
       "114                   ./images\\wrentit\\a43f0b1268.jpg  \n",
       "115               ./images\\yellow_rail\\d5d6b7133e.jpg  \n",
       "116  ./images\\yellow-bellied_sapsucker\\841ccd5daa.jpg  \n",
       "\n",
       "[117 rows x 3 columns]"
      ]
     },
     "execution_count": 13,
     "metadata": {},
     "output_type": "execute_result"
    }
   ],
   "source": [
    "#  Read unique bird names from uniqueName table \n",
    "query = \"SELECT * FROM uniqueNames;\"\n",
    "\n",
    "df = pd.read_sql_query(query,conn)\n",
    "df"
   ]
  },
  {
   "cell_type": "code",
   "execution_count": null,
   "metadata": {},
   "outputs": [],
   "source": []
  },
  {
   "cell_type": "code",
   "execution_count": null,
   "metadata": {},
   "outputs": [],
   "source": []
  }
 ],
 "metadata": {
  "kernelspec": {
   "display_name": "Python 3",
   "language": "python",
   "name": "python3"
  },
  "language_info": {
   "codemirror_mode": {
    "name": "ipython",
    "version": 3
   },
   "file_extension": ".py",
   "mimetype": "text/x-python",
   "name": "python",
   "nbconvert_exporter": "python",
   "pygments_lexer": "ipython3",
   "version": "3.6.10"
  }
 },
 "nbformat": 4,
 "nbformat_minor": 4
}
